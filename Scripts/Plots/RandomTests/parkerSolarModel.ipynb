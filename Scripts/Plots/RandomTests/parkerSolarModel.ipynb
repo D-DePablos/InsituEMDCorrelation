{
 "cells": [
  {
   "cell_type": "code",
   "execution_count": 14,
   "metadata": {},
   "outputs": [
    {
     "name": "stdout",
     "output_type": "stream",
     "text": [
      "From Figure 1 in Parker paper, and a temperature of 10**6 K, assuming speed plateaus at 400 km/s\n"
     ]
    },
    {
     "data": {
      "text/plain": [
       "[[<Quantity 0. AU>, <Quantity 0. km / s>],\n",
       " [<Quantity 0.09300935 AU>, <Quantity 240. km / s>],\n",
       " [<Quantity 0.18601869 AU>, <Quantity 320. km / s>],\n",
       " [<Quantity 0.27902804 AU>, <Quantity 350. km / s>],\n",
       " [<Quantity 0.37203738 AU>, <Quantity 380. km / s>],\n",
       " [<Quantity 0.46504673 AU>, <Quantity 390. km / s>],\n",
       " [<Quantity 0.55805607 AU>, <Quantity 400. km / s>],\n",
       " [<Quantity 0.65106542 AU>, <Quantity 400. km / s>],\n",
       " [<Quantity 0.74407476 AU>, <Quantity 400. km / s>],\n",
       " [<Quantity 0.83708411 AU>, <Quantity 400. km / s>]]"
      ]
     },
     "execution_count": 14,
     "metadata": {},
     "output_type": "execute_result"
    }
   ],
   "source": [
    "import numpy as np\n",
    "import astropy.units as u\n",
    "\n",
    "\n",
    "rOverA = np.arange(0, 100, 10)  \n",
    "\n",
    "a = 2 * u.R_sun\n",
    "spds_1_10__6 = [0, 240, 320, 350, 380, 390, 400, 400, 400, 400]\n",
    "rSp = [[(a * r).to(u.AU), sp*u.km / u.s] for r, sp in zip(rOverA, spds_1_10__6)]\n",
    "print('From Figure 1 in Parker paper, and a temperature of 10**6 K, assuming speed plateaus at 400 km/s')\n",
    "rSp\n",
    "\n"
   ]
  },
  {
   "cell_type": "code",
   "execution_count": 32,
   "metadata": {},
   "outputs": [
    {
     "name": "stdout",
     "output_type": "stream",
     "text": [
      "0.00 AU to 0.09 AU\n",
      "inf\n",
      "0.09 AU to 0.19 AU\n",
      "0.3333333333333333\n",
      "0.19 AU to 0.28 AU\n",
      "0.09375\n",
      "0.28 AU to 0.37 AU\n",
      "0.08571428571428572\n",
      "0.37 AU to 0.47 AU\n",
      "0.02631578947368421\n",
      "0.47 AU to 0.56 AU\n",
      "0.02564102564102564\n",
      "0.56 AU to 0.65 AU\n",
      "0.0\n",
      "0.65 AU to 0.74 AU\n",
      "0.0\n",
      "0.74 AU to 0.84 AU\n",
      "0.0\n"
     ]
    },
    {
     "name": "stderr",
     "output_type": "stream",
     "text": [
      "/Users/ddp/miniconda3/envs/solarphysics/lib/python3.9/site-packages/astropy/units/quantity.py:614: RuntimeWarning: divide by zero encountered in true_divide\n",
      "  result = super().__array_ufunc__(function, method, *arrays, **kwargs)\n"
     ]
    },
    {
     "data": {
      "text/latex": [
       "$400 \\; \\mathrm{\\frac{km}{s}}$"
      ],
      "text/plain": [
       "<Quantity 400. km / s>"
      ]
     },
     "execution_count": 32,
     "metadata": {},
     "output_type": "execute_result"
    }
   ],
   "source": [
    "for index in range(len(rSp) - 1):\n",
    "    r, sp = rSp[index]\n",
    "    r_1 , sp_1 = rSp[index + 1]\n",
    "    \n",
    "    print('{:.2f} to {:.2f}'.format(r, r_1))\n",
    "    print((sp_1 - sp) / sp)\n",
    "\n",
    "rSp[-1][1] \n",
    "    "
   ]
  }
 ],
 "metadata": {
  "interpreter": {
   "hash": "d8f7cd95165f5f696a23c64ff9603f930f90611e1368540b5007f374406eba67"
  },
  "kernelspec": {
   "display_name": "Python 3.9.9 ('solarphysics')",
   "language": "python",
   "name": "python3"
  },
  "language_info": {
   "codemirror_mode": {
    "name": "ipython",
    "version": 3
   },
   "file_extension": ".py",
   "mimetype": "text/x-python",
   "name": "python",
   "nbconvert_exporter": "python",
   "pygments_lexer": "ipython3",
   "version": "3.9.9"
  },
  "orig_nbformat": 4
 },
 "nbformat": 4,
 "nbformat_minor": 2
}
